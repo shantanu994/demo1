{
 "cells": [
  {
   "cell_type": "code",
   "execution_count": 1,
   "id": "ebdf382c",
   "metadata": {},
   "outputs": [],
   "source": [
    "from collections import OrderedDict\n",
    "import operator"
   ]
  },
  {
   "cell_type": "code",
   "execution_count": 2,
   "id": "cc99c0ed",
   "metadata": {},
   "outputs": [],
   "source": [
    "l = ['a','b','c','a','x','a','b','c','b']"
   ]
  },
  {
   "cell_type": "code",
   "execution_count": 5,
   "id": "5f4bb41b",
   "metadata": {},
   "outputs": [
    {
     "name": "stdout",
     "output_type": "stream",
     "text": [
      "OrderedDict([('a', 3), ('b', 3), ('c', 2), ('x', 1)])\n",
      "Max number in dictionary a\n"
     ]
    }
   ],
   "source": [
    "d = OrderedDict()\n",
    "for i in l:\n",
    "    if i in d:\n",
    "        d[i] += 1\n",
    "    else:\n",
    "        d[i] = 1\n",
    "print(d)\n",
    "print(\"Max number in dictionary\",max(d.items(),key=operator.itemgetter(1))[0])\n"
   ]
  },
  {
   "cell_type": "code",
   "execution_count": null,
   "id": "64ba7417",
   "metadata": {},
   "outputs": [],
   "source": []
  }
 ],
 "metadata": {
  "kernelspec": {
   "display_name": "Python 3",
   "language": "python",
   "name": "python3"
  },
  "language_info": {
   "codemirror_mode": {
    "name": "ipython",
    "version": 3
   },
   "file_extension": ".py",
   "mimetype": "text/x-python",
   "name": "python",
   "nbconvert_exporter": "python",
   "pygments_lexer": "ipython3",
   "version": "3.11.9"
  }
 },
 "nbformat": 4,
 "nbformat_minor": 5
}
